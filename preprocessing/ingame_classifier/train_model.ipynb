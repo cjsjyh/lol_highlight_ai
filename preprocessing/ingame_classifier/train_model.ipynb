{
 "cells": [
  {
   "cell_type": "code",
   "execution_count": 2,
   "metadata": {
    "colab": {
     "base_uri": "https://localhost:8080/",
     "height": 122
    },
    "colab_type": "code",
    "executionInfo": {
     "elapsed": 21648,
     "status": "ok",
     "timestamp": 1593603777027,
     "user": {
      "displayName": "최준수",
      "photoUrl": "",
      "userId": "02069898592596728110"
     },
     "user_tz": -540
    },
    "id": "BJiPxYRQQ3Nu",
    "outputId": "0d37bdb1-b4c2-4c45-af47-ff20c7bae1b5"
   },
   "outputs": [
    {
     "name": "stdout",
     "output_type": "stream",
     "text": [
      "Go to this URL in a browser: https://accounts.google.com/o/oauth2/auth?client_id=947318989803-6bn6qk8qdgf4n4g3pfee6491hc0brc4i.apps.googleusercontent.com&redirect_uri=urn%3aietf%3awg%3aoauth%3a2.0%3aoob&response_type=code&scope=email%20https%3a%2f%2fwww.googleapis.com%2fauth%2fdocs.test%20https%3a%2f%2fwww.googleapis.com%2fauth%2fdrive%20https%3a%2f%2fwww.googleapis.com%2fauth%2fdrive.photos.readonly%20https%3a%2f%2fwww.googleapis.com%2fauth%2fpeopleapi.readonly\n",
      "\n",
      "Enter your authorization code:\n",
      "··········\n",
      "Mounted at /content/gdrive\n"
     ]
    }
   ],
   "source": [
    "from google.colab import drive\n",
    "drive.mount('/content/gdrive')"
   ]
  },
  {
   "cell_type": "code",
   "execution_count": 3,
   "metadata": {
    "colab": {},
    "colab_type": "code",
    "executionInfo": {
     "elapsed": 4446,
     "status": "ok",
     "timestamp": 1593603782756,
     "user": {
      "displayName": "최준수",
      "photoUrl": "",
      "userId": "02069898592596728110"
     },
     "user_tz": -540
    },
    "id": "CDIqhzyXSNN1"
   },
   "outputs": [],
   "source": [
    "import torch\n",
    "import torch.nn as nn\n",
    "import torch.nn.functional as F\n",
    "import torch.optim as optim\n",
    "from torch.utils.data import DataLoader\n",
    "\n",
    "import torchvision\n",
    "from torchvision import transforms"
   ]
  },
  {
   "cell_type": "code",
   "execution_count": 4,
   "metadata": {
    "colab": {
     "base_uri": "https://localhost:8080/",
     "height": 34
    },
    "colab_type": "code",
    "executionInfo": {
     "elapsed": 989,
     "status": "ok",
     "timestamp": 1593603784335,
     "user": {
      "displayName": "최준수",
      "photoUrl": "",
      "userId": "02069898592596728110"
     },
     "user_tz": -540
    },
    "id": "xXWsoTZ-T5nP",
    "outputId": "49169042-7ca5-4ec9-b3db-13d73252587c"
   },
   "outputs": [
    {
     "name": "stdout",
     "output_type": "stream",
     "text": [
      "0\n"
     ]
    }
   ],
   "source": [
    "device = 'cuda' if torch.cuda.is_available() else 'cpu'\n",
    "\n",
    "torch.manual_seed(777)\n",
    "if device == 'cuda':\n",
    "  torch.cuda.manual_seed_all(777)\n",
    "print(torch.cuda.memory_allocated(device))"
   ]
  },
  {
   "cell_type": "code",
   "execution_count": 5,
   "metadata": {
    "colab": {},
    "colab_type": "code",
    "executionInfo": {
     "elapsed": 10745,
     "status": "ok",
     "timestamp": 1593603798313,
     "user": {
      "displayName": "최준수",
      "photoUrl": "",
      "userId": "02069898592596728110"
     },
     "user_tz": -540
    },
    "id": "PrqVU6XaSdrK"
   },
   "outputs": [],
   "source": [
    "#------------------------\n",
    "# Load data\n",
    "#------------------------\n",
    "trans = transforms.Compose([\n",
    "  transforms.Resize((240, 426)),\n",
    "  transforms.ToTensor(),\n",
    "  transforms.Normalize((0.5, 0.5, 0.5), (0.5, 0.5, 0.5))\n",
    "])\n",
    "\n",
    "root_path = '/content/gdrive/My Drive/SKT AI Fellowship/모델/in_game_classifier'\n",
    "train_data = torchvision.datasets.ImageFolder(root=root_path + '/train_data', transform=trans)\n",
    "test_data = torchvision.datasets.ImageFolder(root=root_path + '/test_data', transform=trans)\n",
    "\n",
    "train_set = DataLoader(dataset = train_data, batch_size=15, shuffle = True, num_workers=2)\n",
    "test_set = DataLoader(dataset = test_data, batch_size=len(test_data))"
   ]
  },
  {
   "cell_type": "code",
   "execution_count": 6,
   "metadata": {
    "colab": {},
    "colab_type": "code",
    "executionInfo": {
     "elapsed": 983,
     "status": "ok",
     "timestamp": 1593603800290,
     "user": {
      "displayName": "최준수",
      "photoUrl": "",
      "userId": "02069898592596728110"
     },
     "user_tz": -540
    },
    "id": "kv6gc2oasodR"
   },
   "outputs": [],
   "source": [
    "cfg = [64, 'M', 128, 'M', 256, 256, 'M', 512, 512, 'M', 512, 512, 'M'] # 8 + 3 =vgg11"
   ]
  },
  {
   "cell_type": "code",
   "execution_count": 7,
   "metadata": {
    "colab": {},
    "colab_type": "code",
    "executionInfo": {
     "elapsed": 1074,
     "status": "ok",
     "timestamp": 1593603801887,
     "user": {
      "displayName": "최준수",
      "photoUrl": "",
      "userId": "02069898592596728110"
     },
     "user_tz": -540
    },
    "id": "m1GFEIFuS0ni"
   },
   "outputs": [],
   "source": [
    "#------------------------\n",
    "# Network\n",
    "#------------------------\n",
    "class VGG(nn.Module):\n",
    "    def __init__(self, features, num_classes=1000, init_weights=True):\n",
    "        super(VGG, self).__init__()\n",
    "        self.features = features\n",
    "        #self.avgpool = nn.AdaptiveAvgPool2d((7, 7))\n",
    "        self.classifier = nn.Sequential(\n",
    "            nn.Linear(46592, 4096),\n",
    "            nn.ReLU(True),\n",
    "            nn.Dropout(),\n",
    "            nn.Linear(4096, 4096),\n",
    "            nn.ReLU(True),\n",
    "            nn.Dropout(),\n",
    "            nn.Linear(4096, num_classes),\n",
    "        )\n",
    "        if init_weights:\n",
    "            self._initialize_weights()\n",
    "\n",
    "    def forward(self, x):\n",
    "        x = self.features(x)\n",
    "        #x = self.avgpool(x)\n",
    "        x = x.view(x.size(0), -1)\n",
    "        x = self.classifier(x)\n",
    "        return x\n",
    "\n",
    "    def _initialize_weights(self):\n",
    "        for m in self.modules():\n",
    "            if isinstance(m, nn.Conv2d):\n",
    "                nn.init.kaiming_normal_(m.weight, mode='fan_out', nonlinearity='relu')\n",
    "                if m.bias is not None:\n",
    "                    nn.init.constant_(m.bias, 0)\n",
    "            elif isinstance(m, nn.BatchNorm2d):\n",
    "                nn.init.constant_(m.weight, 1)\n",
    "                nn.init.constant_(m.bias, 0)\n",
    "            elif isinstance(m, nn.Linear):\n",
    "                nn.init.normal_(m.weight, 0, 0.01)\n",
    "                nn.init.constant_(m.bias, 0)\n"
   ]
  },
  {
   "cell_type": "code",
   "execution_count": 8,
   "metadata": {
    "colab": {},
    "colab_type": "code",
    "executionInfo": {
     "elapsed": 975,
     "status": "ok",
     "timestamp": 1593603804267,
     "user": {
      "displayName": "최준수",
      "photoUrl": "",
      "userId": "02069898592596728110"
     },
     "user_tz": -540
    },
    "id": "vZnjvnNFHvB2"
   },
   "outputs": [],
   "source": [
    "def make_layers(cfg, batch_norm=False):\n",
    "    layers = []\n",
    "    in_channels = 3\n",
    "    \n",
    "    for v in cfg:\n",
    "        if v == 'M':\n",
    "            layers += [nn.MaxPool2d(kernel_size=2, stride=2)]\n",
    "        else:\n",
    "            conv2d = nn.Conv2d(in_channels, v, kernel_size=3, padding=1)\n",
    "            if batch_norm:\n",
    "                layers += [conv2d, nn.BatchNorm2d(v), nn.ReLU(inplace=True)]\n",
    "            else:\n",
    "                layers += [conv2d, nn.ReLU(inplace=True)]\n",
    "            in_channels = v\n",
    "                     \n",
    "    return nn.Sequential(*layers)"
   ]
  },
  {
   "cell_type": "code",
   "execution_count": null,
   "metadata": {
    "colab": {
     "base_uri": "https://localhost:8080/",
     "height": 51
    },
    "colab_type": "code",
    "executionInfo": {
     "elapsed": 13961,
     "status": "ok",
     "timestamp": 1593592095632,
     "user": {
      "displayName": "최준수",
      "photoUrl": "",
      "userId": "02069898592596728110"
     },
     "user_tz": -540
    },
    "id": "1vlu6KBfWHrt",
    "outputId": "f7a07f49-c9c7-488a-9c9e-531bcfc861c2"
   },
   "outputs": [
    {
     "name": "stdout",
     "output_type": "stream",
     "text": [
      "0\n",
      "867420672\n"
     ]
    }
   ],
   "source": [
    "#------------------------\n",
    "# Initialization\n",
    "#------------------------\n",
    "net = VGG(make_layers(cfg),2,True).to(device)\n",
    "optimizer = optim.Adam(net.parameters(), lr=0.0001)\n",
    "loss_func = nn.CrossEntropyLoss().to(device)\n",
    "\n",
    "# # Testing\n",
    "# test_input = (torch.Tensor(6,3,240,426)).to(device)\n",
    "# test_out = net(test_input)\n",
    "# print(test_out)"
   ]
  },
  {
   "cell_type": "code",
   "execution_count": null,
   "metadata": {
    "colab": {
     "base_uri": "https://localhost:8080/",
     "height": 119
    },
    "colab_type": "code",
    "executionInfo": {
     "elapsed": 568317,
     "status": "ok",
     "timestamp": 1593592678495,
     "user": {
      "displayName": "최준수",
      "photoUrl": "",
      "userId": "02069898592596728110"
     },
     "user_tz": -540
    },
    "id": "J1LCPvZ2WPAz",
    "outputId": "29d2d502-42b2-4a35-94ac-9a6762db5a0f"
   },
   "outputs": [
    {
     "name": "stdout",
     "output_type": "stream",
     "text": [
      "[Epoch:1] cost = 0.25984886288642883\n",
      "[Epoch:2] cost = 0.0725037008523941\n",
      "[Epoch:3] cost = 0.0385691337287426\n",
      "[Epoch:4] cost = 0.08838646113872528\n",
      "[Epoch:5] cost = 0.031091608107089996\n",
      "Learning Finished!\n"
     ]
    }
   ],
   "source": [
    "#------------------------\n",
    "# Training\n",
    "#------------------------\n",
    "total_batch = len(train_set)\n",
    "epochs = 5\n",
    "for epoch in range(epochs):\n",
    "  avg_cost = 0.0\n",
    "  for num, data in enumerate(train_set):\n",
    "    imgs, labels = data\n",
    "    imgs = imgs.to(device)\n",
    "    labels = labels.to(device)\n",
    "    \n",
    "    optimizer.zero_grad()\n",
    "    hypothesis = net(imgs)\n",
    "    loss = loss_func(hypothesis, labels)\n",
    "    loss.backward()\n",
    "    optimizer.step()\n",
    "\n",
    "    avg_cost += loss / total_batch\n",
    "  print('[Epoch:{}] cost = {}'.format(epoch+1, avg_cost))\n",
    "  torch.save(net.state_dict(), root_path + \"/result_model/epoch{}_model.pth\".format(epoch+1))\n",
    "print('Learning Finished!')\n",
    "torch.save(net.state_dict(), root_path + \"/result_model/final_model.pth\")"
   ]
  },
  {
   "cell_type": "code",
   "execution_count": 11,
   "metadata": {
    "colab": {
     "base_uri": "https://localhost:8080/",
     "height": 122
    },
    "colab_type": "code",
    "executionInfo": {
     "elapsed": 7963,
     "status": "ok",
     "timestamp": 1593604058479,
     "user": {
      "displayName": "최준수",
      "photoUrl": "",
      "userId": "02069898592596728110"
     },
     "user_tz": -540
    },
    "id": "WOIuksJIYyld",
    "outputId": "420abce9-9493-469c-fcc6-976b80a55a24"
   },
   "outputs": [
    {
     "name": "stdout",
     "output_type": "stream",
     "text": [
      "tensor([0, 0, 0, 0, 0, 0, 0, 0, 0, 0, 0, 0, 0, 0, 0, 0, 0, 0, 0, 0, 0, 0, 0, 1,\n",
      "        1, 1, 1, 1, 1, 1, 1, 1, 1, 1, 1, 1, 1, 1, 1, 1, 1, 1, 1, 1, 1, 1, 1, 1,\n",
      "        1, 1, 1, 1, 1, 1, 1, 1, 1, 1], device='cuda:0')\n",
      "[0, 0, 0, 0, 0, 0, 0, 0, 0, 0, 0, 0, 0, 0, 0, 0, 0, 0, 0, 0, 0, 0, 0, 1, 1, 1, 1, 1, 1, 1, 1, 1, 1, 1, 1, 1, 1, 1, 1, 1, 1, 1, 1, 1, 1, 1, 1, 1, 1, 1, 1, 1, 1, 1, 1, 1, 1, 1]\n",
      "Accuracy:  1.0\n"
     ]
    }
   ],
   "source": [
    "#------------------------\n",
    "# Evaluation\n",
    "#------------------------\n",
    "new_net = VGG(make_layers(cfg),2,True).to(device)\n",
    "new_net.load_state_dict(torch.load(root_path + \"/result_model/final_model.pth\"))\n",
    "\n",
    "with torch.no_grad():\n",
    "  for num, data in enumerate(test_set):\n",
    "    imgs, label = data\n",
    "    imgs = imgs.to(device)\n",
    "    label = label.to(device)\n",
    "\n",
    "    prediction = new_net(imgs)\n",
    "\n",
    "    correct_prediction = torch.argmax(prediction, 1) == label\n",
    "    print(torch.argmax(prediction, 1))\n",
    "    print(torch.argmax(prediction, 1).tolist())\n",
    "\n",
    "    accuracy = correct_prediction.float().mean()\n",
    "    print(\"Accuracy: \", accuracy.item())"
   ]
  }
 ],
 "metadata": {
  "accelerator": "GPU",
  "colab": {
   "authorship_tag": "ABX9TyMtgcgTV09HfNb6KRSJCShL",
   "collapsed_sections": [],
   "name": "ingame_classifier.ipynb",
   "provenance": []
  },
  "kernelspec": {
   "display_name": "Python 3",
   "language": "python",
   "name": "python3"
  },
  "language_info": {
   "codemirror_mode": {
    "name": "ipython",
    "version": 3
   },
   "file_extension": ".py",
   "mimetype": "text/x-python",
   "name": "python",
   "nbconvert_exporter": "python",
   "pygments_lexer": "ipython3",
   "version": "3.7.3"
  }
 },
 "nbformat": 4,
 "nbformat_minor": 1
}
